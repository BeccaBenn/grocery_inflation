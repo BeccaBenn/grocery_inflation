{
 "cells": [
  {
   "cell_type": "code",
   "execution_count": null,
   "id": "57956885",
   "metadata": {},
   "outputs": [],
   "source": [
    "# How does the rate of inflation for food purchased at grocery stores \n",
    "# within California compare to the rest of the United States?\n",
    "# will want to use CPI-U data (not CPI-W), it's a broader data set"
   ]
  },
  {
   "cell_type": "code",
   "execution_count": null,
   "id": "7c5b2acb",
   "metadata": {},
   "outputs": [],
   "source": [
    "# inflation equations \n",
    "# A=initial $ cost of item, B=end $ cost of item\n",
    "# Inflation Rate = ((B-A)/A) x 100\n",
    "# Inflation rate percentage = ((CPI_B - CPI_A)/CPI_A)*100\n",
    "# Past dollars in terms of recent dollars = Dollar amount × Ending-period CPI ÷ Beginning-period CPI"
   ]
  },
  {
   "cell_type": "code",
   "execution_count": null,
   "id": "744eea67",
   "metadata": {},
   "outputs": [],
   "source": [
    "# Do price increases vary with food type? Poultry vs produce vs seafood vs dairy vs seasonings, sugar, etc, depending on data we find.\n",
    "\n",
    "# food_type_prices = data.groupby('food_type')['price'].mean()\n",
    "\n",
    "# # Plot the mean price increases for each food type\n",
    "# food_type_prices.plot(kind='bar')\n",
    "# plt.xlabel('Food Type')\n",
    "# plt.ylabel('Mean Price Increase')\n",
    "# plt.title('Mean Price Increases by Food Type')\n",
    "# plt.show()\n"
   ]
  },
  {
   "cell_type": "code",
   "execution_count": null,
   "id": "eaf045d0",
   "metadata": {},
   "outputs": [],
   "source": [
    "# Greatest variations in inflation in grocery items year to year national, and briefly connect to potential causes of the increased variation during the presentation\n",
    "# \tMaybe include notable outliers, like eggs this year, or poultry when there is an outbreak of bird flu.\n",
    "# standard deviation and variability of each item's inflation rate"
   ]
  }
 ],
 "metadata": {
  "kernelspec": {
   "display_name": "Python 3 (ipykernel)",
   "language": "python",
   "name": "python3"
  },
  "language_info": {
   "codemirror_mode": {
    "name": "ipython",
    "version": 3
   },
   "file_extension": ".py",
   "mimetype": "text/x-python",
   "name": "python",
   "nbconvert_exporter": "python",
   "pygments_lexer": "ipython3",
   "version": "3.11.5"
  }
 },
 "nbformat": 4,
 "nbformat_minor": 5
}
