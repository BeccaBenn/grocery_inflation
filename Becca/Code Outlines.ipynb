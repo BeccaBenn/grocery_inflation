{
 "cells": [
  {
   "cell_type": "code",
   "execution_count": null,
   "id": "57956885",
   "metadata": {},
   "outputs": [],
   "source": [
    "# How does the rate of inflation for food purchased at grocery stores \n",
    "# within California compare to the rest of the United States? % change year to year\n",
    "# will want to use CPI-U data (not CPI-W), it's a broader data set"
   ]
  },
  {
   "cell_type": "code",
   "execution_count": null,
   "id": "7c5b2acb",
   "metadata": {},
   "outputs": [],
   "source": [
    "# inflation equations \n",
    "# A=initial $ cost of item, B=end $ cost of item\n",
    "# Inflation Rate = ((B-A)/A) x 100\n",
    "# Inflation rate percentage = ((CPI_B - CPI_A)/CPI_A)*100\n",
    "# Past dollars in terms of recent dollars = Dollar amount × Ending-period CPI ÷ Beginning-period CPI"
   ]
  },
  {
   "cell_type": "code",
   "execution_count": null,
   "id": "744eea67",
   "metadata": {},
   "outputs": [],
   "source": [
    "# Do price increases vary with food type? Poultry vs produce vs seafood vs dairy vs seasonings, sugar, etc, depending on data we find.\n",
    "\n",
    "# food_type_prices = data.groupby('food_type')['price'].mean()\n",
    "\n",
    "# # Plot the mean price increases for each food type\n",
    "# food_type_prices.plot(kind='bar')\n",
    "# plt.xlabel('Food Type')\n",
    "# plt.ylabel('Mean Price Increase')\n",
    "# plt.title('Mean Price Increases by Food Type')\n",
    "# plt.show()\n"
   ]
  },
  {
   "cell_type": "code",
   "execution_count": null,
   "id": "eaf045d0",
   "metadata": {},
   "outputs": [],
   "source": [
    "# Greatest variations in inflation in grocery items year to year national, \n",
    "# and briefly connect to potential causes of the increased variation during the presentation\n",
    "# \tMaybe include notable outliers, like eggs this year, or poultry when there is an outbreak of bird flu.\n",
    "# standard deviation and variability of each item's inflation rate"
   ]
  },
  {
   "cell_type": "code",
   "execution_count": 1,
   "id": "11575830",
   "metadata": {},
   "outputs": [],
   "source": [
    "import pandas as pd\n",
    "from pathlib import Path"
   ]
  },
  {
   "cell_type": "code",
   "execution_count": 1,
   "id": "40d7b742",
   "metadata": {},
   "outputs": [
    {
     "ename": "NameError",
     "evalue": "name 'Path' is not defined",
     "output_type": "error",
     "traceback": [
      "\u001b[1;31m---------------------------------------------------------------------------\u001b[0m",
      "\u001b[1;31mNameError\u001b[0m                                 Traceback (most recent call last)",
      "Cell \u001b[1;32mIn[1], line 1\u001b[0m\n\u001b[1;32m----> 1\u001b[0m cpi \u001b[38;5;241m=\u001b[39m Path(\u001b[38;5;124m\"\u001b[39m\u001b[38;5;124m../Resources/CPI-All-Item-CY.csv\u001b[39m\u001b[38;5;124m\"\u001b[39m)\n\u001b[0;32m      2\u001b[0m pd\u001b[38;5;241m.\u001b[39mset_option(\u001b[38;5;124m'\u001b[39m\u001b[38;5;124mdisplay.max_rows\u001b[39m\u001b[38;5;124m'\u001b[39m, \u001b[38;5;28;01mNone\u001b[39;00m)\n\u001b[0;32m      3\u001b[0m pd\u001b[38;5;241m.\u001b[39mset_option(\u001b[38;5;124m'\u001b[39m\u001b[38;5;124mdisplay.max_columns\u001b[39m\u001b[38;5;124m'\u001b[39m, \u001b[38;5;28;01mNone\u001b[39;00m)\n",
      "\u001b[1;31mNameError\u001b[0m: name 'Path' is not defined"
     ]
    }
   ],
   "source": [
    "cpi = Path(\"../Resources/CPI-All-Item-CY.csv\")\n",
    "pd.set_option('display.max_rows', None)\n",
    "pd.set_option('display.max_columns', None)\n",
    "\n",
    "cpi_df = pd.read_csv(cpi)\n",
    "cpi_df"
   ]
  }
 ],
 "metadata": {
  "kernelspec": {
   "display_name": "Python 3 (ipykernel)",
   "language": "python",
   "name": "python3"
  },
  "language_info": {
   "codemirror_mode": {
    "name": "ipython",
    "version": 3
   },
   "file_extension": ".py",
   "mimetype": "text/x-python",
   "name": "python",
   "nbconvert_exporter": "python",
   "pygments_lexer": "ipython3",
   "version": "3.11.5"
  }
 },
 "nbformat": 4,
 "nbformat_minor": 5
}
